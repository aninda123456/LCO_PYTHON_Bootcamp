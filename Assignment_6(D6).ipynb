{
 "cells": [
  {
   "cell_type": "raw",
   "metadata": {},
   "source": [
    "How would you write a regex that matches the full name of someone\n",
    "whose last name is Python? You can assume that the first name that\n",
    "comes before it will always be one word that begins with a capital letter.\n",
    "The regex must match the following:\n",
    "•\t 'Hello Python'\n",
    "•\t 'World Python'\n",
    "•\t 'RoboCop Python'\n",
    "but not the following:\n",
    "•\t 'satoshi Python' (where the first name is not capitalized)\n",
    "•\t 'Mr. Python' (where the preceding word has a nonletter character)\n",
    "•\t 'Python' (which has no first name)\n",
    "•\t 'Satoshi Python' (where Nakamoto is not capitalized)"
   ]
  },
  {
   "cell_type": "code",
   "execution_count": null,
   "metadata": {
    "collapsed": true
   },
   "outputs": [],
   "source": [
    "import re\n",
    "st = \"Satoshi Python\"\n",
    "regx =\"[A-Z]\\w+\\sPython\"\n",
    "print(re.findall(regx,st))"
   ]
  },
  {
   "cell_type": "raw",
   "metadata": {},
   "source": [
    "How would you write a regex that matches a sentence where the first\n",
    "word is either Alice, Bob, or Carol; the second word is either eats, pets, or\n",
    "throws; the third word is apples, cats, or baseballs; and the sentence ends\n",
    "with a period? This regex should be case-insensitive. It must match the\n",
    "following:\n",
    "•\t 'Alice eats apples.'\n",
    "•\t 'Bob pets cats.'\n",
    "•\t 'Carol throws baseballs.'\n",
    "•\t 'Alice throws Apples.'\n",
    "•\t 'BOB EATS CATS.'\n",
    "but not the following:\n",
    "•\t 'RoboCop eats apples.'\n",
    "•\t 'ALICE THROWS FOOTBALLS.'\n",
    "•\t 'Carol eats 7 cats.'"
   ]
  },
  {
   "cell_type": "code",
   "execution_count": 53,
   "metadata": {},
   "outputs": [
    {
     "name": "stdout",
     "output_type": "stream",
     "text": [
      "Bob pets cats\n"
     ]
    }
   ],
   "source": [
    "import re\n",
    "st = \"Bob pets cats.\"\n",
    "regx =r\"(Carol|Alice|Bob)\\s(eats|pets|throws)\\s(apples|cats|baseballs)\"\n",
    "reg = re.compile(regx)\n",
    "inp = reg.search(st)\n",
    "if inp==None:\n",
    "    print(\"String can't be matched\")\n",
    "else:\n",
    "    print(inp.group())"
   ]
  },
  {
   "cell_type": "markdown",
   "metadata": {},
   "source": [
    "Creat An Email Bomber"
   ]
  },
  {
   "cell_type": "code",
   "execution_count": null,
   "metadata": {
    "collapsed": true
   },
   "outputs": [],
   "source": []
  }
 ],
 "metadata": {
  "kernelspec": {
   "display_name": "Python 3",
   "language": "python",
   "name": "python3"
  },
  "language_info": {
   "codemirror_mode": {
    "name": "ipython",
    "version": 3
   },
   "file_extension": ".py",
   "mimetype": "text/x-python",
   "name": "python",
   "nbconvert_exporter": "python",
   "pygments_lexer": "ipython3",
   "version": "3.6.3"
  }
 },
 "nbformat": 4,
 "nbformat_minor": 2
}
