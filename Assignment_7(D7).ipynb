{
 "cells": [
  {
   "cell_type": "raw",
   "metadata": {},
   "source": [
    "Find nth Non square no."
   ]
  },
  {
   "cell_type": "code",
   "execution_count": 1,
   "metadata": {},
   "outputs": [
    {
     "name": "stdout",
     "output_type": "stream",
     "text": [
      "Enter the value of n: 4\n",
      "2\n",
      "3\n",
      "5\n",
      "6\n"
     ]
    }
   ],
   "source": [
    "import math\n",
    "def isSquare(no):\n",
    "    if(int(math.sqrt(no))**2 == no):\n",
    "        return 1\n",
    "    else:\n",
    "        return 0\n",
    "n = input(\"Enter the value of n: \")\n",
    "n = int(n)\n",
    "i=0\n",
    "j=1\n",
    "while(True):\n",
    "    if(isSquare(j)==0):\n",
    "        print(j)\n",
    "        j+=1\n",
    "        i+=1\n",
    "    else:\n",
    "        j+=1\n",
    "    if(i==n):\n",
    "        break"
   ]
  },
  {
   "cell_type": "raw",
   "metadata": {},
   "source": [
    "Find GCD by Eclid's Algorithm"
   ]
  },
  {
   "cell_type": "code",
   "execution_count": 5,
   "metadata": {},
   "outputs": [
    {
     "name": "stdout",
     "output_type": "stream",
     "text": [
      "Enter the first term: 30\n",
      "Enter the second term: 12\n",
      "The GCD is: 6\n"
     ]
    }
   ],
   "source": [
    "i = input(\"Enter the first term: \")\n",
    "j = input(\"Enter the second term: \")\n",
    "i,j = int(i),int(j)\n",
    "def gcd(x,y):\n",
    "    if(y%x)==0:\n",
    "        return str(x)\n",
    "    else:\n",
    "        return gcd(y%x,x)\n",
    "print(\"The GCD is: \"+gcd(i,j))"
   ]
  },
  {
   "cell_type": "raw",
   "metadata": {},
   "source": [
    "Implement An StopWatch"
   ]
  },
  {
   "cell_type": "code",
   "execution_count": 10,
   "metadata": {},
   "outputs": [
    {
     "name": "stdout",
     "output_type": "stream",
     "text": [
      "Press 1 to start the Stopwatch1\n",
      "Enter 1 to record time and 2 to stop time: 1\n",
      "4.567976236343384\n",
      "Enter 1 to record time and 2 to stop time: 1\n",
      "1.983926773071289\n",
      "Enter 1 to record time and 2 to stop time: 1\n",
      "1.383835792541504\n",
      "Enter 1 to record time and 2 to stop time: 1\n",
      "0.7715198993682861\n",
      "Enter 1 to record time and 2 to stop time: 1\n",
      "0.5996315479278564\n",
      "Enter 1 to record time and 2 to stop time: 1\n",
      "1.0481462478637695\n",
      "Enter 1 to record time and 2 to stop time: 1\n",
      "0.45356202125549316\n",
      "Enter 1 to record time and 2 to stop time: 1\n",
      "0.35541200637817383\n",
      "Enter 1 to record time and 2 to stop time: 1\n",
      "2.4333267211914062\n",
      "Enter 1 to record time and 2 to stop time: 2\n",
      "1.5207133293151855\n"
     ]
    }
   ],
   "source": [
    "import time\n",
    "input(\"Press 1 to start the Stopwatch\")\n",
    "t = time.time()\n",
    "while(True):\n",
    "    y = input(\"Enter 1 to record time and 2 to stop time: \")\n",
    "    print(time.time()-t)\n",
    "    t=time.time()\n",
    "    if(int(y)==2):\n",
    "        break"
   ]
  },
  {
   "cell_type": "raw",
   "metadata": {},
   "source": []
  },
  {
   "cell_type": "code",
   "execution_count": null,
   "metadata": {
    "collapsed": true
   },
   "outputs": [],
   "source": []
  }
 ],
 "metadata": {
  "kernelspec": {
   "display_name": "Python 3",
   "language": "python",
   "name": "python3"
  },
  "language_info": {
   "codemirror_mode": {
    "name": "ipython",
    "version": 3
   },
   "file_extension": ".py",
   "mimetype": "text/x-python",
   "name": "python",
   "nbconvert_exporter": "python",
   "pygments_lexer": "ipython3",
   "version": "3.6.3"
  }
 },
 "nbformat": 4,
 "nbformat_minor": 2
}
